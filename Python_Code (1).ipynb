{
  "nbformat": 4,
  "nbformat_minor": 0,
  "metadata": {
    "colab": {
      "provenance": []
    },
    "kernelspec": {
      "name": "python3",
      "display_name": "Python 3"
    },
    "language_info": {
      "name": "python"
    }
  },
  "cells": [
    {
      "cell_type": "markdown",
      "source": [],
      "metadata": {
        "id": "TjdS4VQ2lZoK"
      }
    },
    {
      "cell_type": "code",
      "execution_count": 1,
      "metadata": {
        "colab": {
          "base_uri": "https://localhost:8080/",
          "height": 1000
        },
        "id": "kisiJJr1lTvH",
        "outputId": "1530ed86-df8f-4d85-cb9f-6c0db0b680fe"
      },
      "outputs": [
        {
          "output_type": "display_data",
          "data": {
            "text/html": [
              "<html>\n",
              "<head><meta charset=\"utf-8\" /></head>\n",
              "<body>\n",
              "    <div>            <script src=\"https://cdnjs.cloudflare.com/ajax/libs/mathjax/2.7.5/MathJax.js?config=TeX-AMS-MML_SVG\"></script><script type=\"text/javascript\">if (window.MathJax && window.MathJax.Hub && window.MathJax.Hub.Config) {window.MathJax.Hub.Config({SVG: {font: \"STIX-Web\"}});}</script>                <script type=\"text/javascript\">window.PlotlyConfig = {MathJaxConfig: 'local'};</script>\n",
              "        <script charset=\"utf-8\" src=\"https://cdn.plot.ly/plotly-2.35.2.min.js\"></script>                <div id=\"8a14d74a-88ff-47e8-82e9-f85f9370026e\" class=\"plotly-graph-div\" style=\"height:1400px; width:100%;\"></div>            <script type=\"text/javascript\">                                    window.PLOTLYENV=window.PLOTLYENV || {};                                    if (document.getElementById(\"8a14d74a-88ff-47e8-82e9-f85f9370026e\")) {                    Plotly.newPlot(                        \"8a14d74a-88ff-47e8-82e9-f85f9370026e\",                        [{\"mode\":\"lines\",\"name\":\"Temperature\",\"x\":[\"2025-04-26T06:49:01+00:00\",\"2025-04-26T06:49:43+00:00\",\"2025-04-26T06:50:26+00:00\",\"2025-04-26T06:51:08+00:00\",\"2025-04-26T06:51:51+00:00\",\"2025-04-26T06:52:34+00:00\",\"2025-04-26T06:53:16+00:00\",\"2025-04-26T06:53:59+00:00\",\"2025-04-26T06:54:41+00:00\",\"2025-04-26T06:55:23+00:00\",\"2025-04-26T06:56:06+00:00\",\"2025-04-26T06:56:49+00:00\",\"2025-04-26T06:57:31+00:00\",\"2025-04-26T06:58:14+00:00\",\"2025-04-26T06:58:56+00:00\",\"2025-04-26T06:59:38+00:00\",\"2025-04-26T07:00:21+00:00\",\"2025-04-26T07:01:03+00:00\",\"2025-04-26T07:01:45+00:00\",\"2025-04-26T07:02:27+00:00\",\"2025-04-26T07:03:10+00:00\",\"2025-04-26T07:03:53+00:00\",\"2025-04-26T07:04:36+00:00\",\"2025-04-26T07:05:18+00:00\",\"2025-04-26T07:06:01+00:00\",\"2025-04-26T07:06:44+00:00\",\"2025-04-26T07:07:26+00:00\",\"2025-04-26T07:08:09+00:00\",\"2025-04-26T07:08:51+00:00\",\"2025-04-26T07:09:34+00:00\",\"2025-04-26T07:10:16+00:00\",\"2025-04-26T07:10:58+00:00\",\"2025-04-26T07:11:41+00:00\",\"2025-04-26T07:12:24+00:00\",\"2025-04-26T07:13:06+00:00\",\"2025-04-26T07:13:49+00:00\",\"2025-04-26T07:14:32+00:00\",\"2025-04-26T07:15:14+00:00\",\"2025-04-26T07:15:57+00:00\",\"2025-04-26T07:16:39+00:00\"],\"y\":[24.88,24.88,24.88,24.88,24.88,24.88,24.88,24.88,24.88,24.88,24.88,24.88,24.88,24.99,24.99,24.99,24.99,24.99,24.99,24.99,24.99,24.99,24.99,24.99,24.99,24.99,24.88,24.88,24.77,24.77,24.77,24.77,24.77,24.77,24.77,24.88,24.88,24.88,24.88,24.88],\"type\":\"scatter\",\"xaxis\":\"x\",\"yaxis\":\"y\"},{\"mode\":\"lines\",\"name\":\"Relative Humidity (rH)\",\"x\":[\"2025-04-26T06:49:01+00:00\",\"2025-04-26T06:49:43+00:00\",\"2025-04-26T06:50:26+00:00\",\"2025-04-26T06:51:08+00:00\",\"2025-04-26T06:51:51+00:00\",\"2025-04-26T06:52:34+00:00\",\"2025-04-26T06:53:16+00:00\",\"2025-04-26T06:53:59+00:00\",\"2025-04-26T06:54:41+00:00\",\"2025-04-26T06:55:23+00:00\",\"2025-04-26T06:56:06+00:00\",\"2025-04-26T06:56:49+00:00\",\"2025-04-26T06:57:31+00:00\",\"2025-04-26T06:58:14+00:00\",\"2025-04-26T06:58:56+00:00\",\"2025-04-26T06:59:38+00:00\",\"2025-04-26T07:00:21+00:00\",\"2025-04-26T07:01:03+00:00\",\"2025-04-26T07:01:45+00:00\",\"2025-04-26T07:02:27+00:00\",\"2025-04-26T07:03:10+00:00\",\"2025-04-26T07:03:53+00:00\",\"2025-04-26T07:04:36+00:00\",\"2025-04-26T07:05:18+00:00\",\"2025-04-26T07:06:01+00:00\",\"2025-04-26T07:06:44+00:00\",\"2025-04-26T07:07:26+00:00\",\"2025-04-26T07:08:09+00:00\",\"2025-04-26T07:08:51+00:00\",\"2025-04-26T07:09:34+00:00\",\"2025-04-26T07:10:16+00:00\",\"2025-04-26T07:10:58+00:00\",\"2025-04-26T07:11:41+00:00\",\"2025-04-26T07:12:24+00:00\",\"2025-04-26T07:13:06+00:00\",\"2025-04-26T07:13:49+00:00\",\"2025-04-26T07:14:32+00:00\",\"2025-04-26T07:15:14+00:00\",\"2025-04-26T07:15:57+00:00\",\"2025-04-26T07:16:39+00:00\"],\"y\":[66.55,66.22,66.33,66.11,66.11,66.22,66.22,66.44,66.0,66.66,66.22,66.44,66.66,66.33,66.0,66.11,65.99,66.0,66.0,66.33,66.11,66.11,66.11,66.0,66.22,66.11,66.22,66.66,66.55,66.66,66.44,66.33,66.55,66.55,66.55,66.55,66.33,66.66,66.33,66.22],\"type\":\"scatter\",\"xaxis\":\"x2\",\"yaxis\":\"y2\"},{\"mode\":\"lines\",\"name\":\"PMS1\",\"x\":[\"2025-04-26T06:49:01+00:00\",\"2025-04-26T06:49:43+00:00\",\"2025-04-26T06:50:26+00:00\",\"2025-04-26T06:51:08+00:00\",\"2025-04-26T06:51:51+00:00\",\"2025-04-26T06:52:34+00:00\",\"2025-04-26T06:53:16+00:00\",\"2025-04-26T06:53:59+00:00\",\"2025-04-26T06:54:41+00:00\",\"2025-04-26T06:55:23+00:00\",\"2025-04-26T06:56:06+00:00\",\"2025-04-26T06:56:49+00:00\",\"2025-04-26T06:57:31+00:00\",\"2025-04-26T06:58:14+00:00\",\"2025-04-26T06:58:56+00:00\",\"2025-04-26T06:59:38+00:00\",\"2025-04-26T07:00:21+00:00\",\"2025-04-26T07:01:03+00:00\",\"2025-04-26T07:01:45+00:00\",\"2025-04-26T07:02:27+00:00\",\"2025-04-26T07:03:10+00:00\",\"2025-04-26T07:03:53+00:00\",\"2025-04-26T07:04:36+00:00\",\"2025-04-26T07:05:18+00:00\",\"2025-04-26T07:06:01+00:00\",\"2025-04-26T07:06:44+00:00\",\"2025-04-26T07:07:26+00:00\",\"2025-04-26T07:08:09+00:00\",\"2025-04-26T07:08:51+00:00\",\"2025-04-26T07:09:34+00:00\",\"2025-04-26T07:10:16+00:00\",\"2025-04-26T07:10:58+00:00\",\"2025-04-26T07:11:41+00:00\",\"2025-04-26T07:12:24+00:00\",\"2025-04-26T07:13:06+00:00\",\"2025-04-26T07:13:49+00:00\",\"2025-04-26T07:14:32+00:00\",\"2025-04-26T07:15:14+00:00\",\"2025-04-26T07:15:57+00:00\",\"2025-04-26T07:16:39+00:00\"],\"y\":[22,22,21,22,21,21,22,22,22,22,22,22,22,22,23,22,21,22,21,23,22,20,20,22,22,22,21,21,22,22,22,22,22,22,23,20,22,20,21,21],\"type\":\"scatter\",\"xaxis\":\"x3\",\"yaxis\":\"y3\"},{\"mode\":\"lines\",\"name\":\"PMS2.5\",\"x\":[\"2025-04-26T06:49:01+00:00\",\"2025-04-26T06:49:43+00:00\",\"2025-04-26T06:50:26+00:00\",\"2025-04-26T06:51:08+00:00\",\"2025-04-26T06:51:51+00:00\",\"2025-04-26T06:52:34+00:00\",\"2025-04-26T06:53:16+00:00\",\"2025-04-26T06:53:59+00:00\",\"2025-04-26T06:54:41+00:00\",\"2025-04-26T06:55:23+00:00\",\"2025-04-26T06:56:06+00:00\",\"2025-04-26T06:56:49+00:00\",\"2025-04-26T06:57:31+00:00\",\"2025-04-26T06:58:14+00:00\",\"2025-04-26T06:58:56+00:00\",\"2025-04-26T06:59:38+00:00\",\"2025-04-26T07:00:21+00:00\",\"2025-04-26T07:01:03+00:00\",\"2025-04-26T07:01:45+00:00\",\"2025-04-26T07:02:27+00:00\",\"2025-04-26T07:03:10+00:00\",\"2025-04-26T07:03:53+00:00\",\"2025-04-26T07:04:36+00:00\",\"2025-04-26T07:05:18+00:00\",\"2025-04-26T07:06:01+00:00\",\"2025-04-26T07:06:44+00:00\",\"2025-04-26T07:07:26+00:00\",\"2025-04-26T07:08:09+00:00\",\"2025-04-26T07:08:51+00:00\",\"2025-04-26T07:09:34+00:00\",\"2025-04-26T07:10:16+00:00\",\"2025-04-26T07:10:58+00:00\",\"2025-04-26T07:11:41+00:00\",\"2025-04-26T07:12:24+00:00\",\"2025-04-26T07:13:06+00:00\",\"2025-04-26T07:13:49+00:00\",\"2025-04-26T07:14:32+00:00\",\"2025-04-26T07:15:14+00:00\",\"2025-04-26T07:15:57+00:00\",\"2025-04-26T07:16:39+00:00\"],\"y\":[33,35,37,36,36,35,38,37,35,35,39,37,38,38,37,37,36,36,34,36,38,35,34,36,36,35,35,36,36,38,35,33,37,37,36,35,36,33,35,36],\"type\":\"scatter\",\"xaxis\":\"x4\",\"yaxis\":\"y4\"},{\"mode\":\"lines\",\"name\":\"PMS10\",\"x\":[\"2025-04-26T06:49:01+00:00\",\"2025-04-26T06:49:43+00:00\",\"2025-04-26T06:50:26+00:00\",\"2025-04-26T06:51:08+00:00\",\"2025-04-26T06:51:51+00:00\",\"2025-04-26T06:52:34+00:00\",\"2025-04-26T06:53:16+00:00\",\"2025-04-26T06:53:59+00:00\",\"2025-04-26T06:54:41+00:00\",\"2025-04-26T06:55:23+00:00\",\"2025-04-26T06:56:06+00:00\",\"2025-04-26T06:56:49+00:00\",\"2025-04-26T06:57:31+00:00\",\"2025-04-26T06:58:14+00:00\",\"2025-04-26T06:58:56+00:00\",\"2025-04-26T06:59:38+00:00\",\"2025-04-26T07:00:21+00:00\",\"2025-04-26T07:01:03+00:00\",\"2025-04-26T07:01:45+00:00\",\"2025-04-26T07:02:27+00:00\",\"2025-04-26T07:03:10+00:00\",\"2025-04-26T07:03:53+00:00\",\"2025-04-26T07:04:36+00:00\",\"2025-04-26T07:05:18+00:00\",\"2025-04-26T07:06:01+00:00\",\"2025-04-26T07:06:44+00:00\",\"2025-04-26T07:07:26+00:00\",\"2025-04-26T07:08:09+00:00\",\"2025-04-26T07:08:51+00:00\",\"2025-04-26T07:09:34+00:00\",\"2025-04-26T07:10:16+00:00\",\"2025-04-26T07:10:58+00:00\",\"2025-04-26T07:11:41+00:00\",\"2025-04-26T07:12:24+00:00\",\"2025-04-26T07:13:06+00:00\",\"2025-04-26T07:13:49+00:00\",\"2025-04-26T07:14:32+00:00\",\"2025-04-26T07:15:14+00:00\",\"2025-04-26T07:15:57+00:00\",\"2025-04-26T07:16:39+00:00\"],\"y\":[38,40,46,43,40,41,47,44,43,44,48,44,46,47,45,45,43,42,39,43,45,40,41,43,42,42,41,42,42,45,44,38,44,45,42,42,43,37,40,44],\"type\":\"scatter\",\"xaxis\":\"x5\",\"yaxis\":\"y5\"}],                        {\"template\":{\"data\":{\"histogram2dcontour\":[{\"type\":\"histogram2dcontour\",\"colorbar\":{\"outlinewidth\":0,\"ticks\":\"\"},\"colorscale\":[[0.0,\"#0d0887\"],[0.1111111111111111,\"#46039f\"],[0.2222222222222222,\"#7201a8\"],[0.3333333333333333,\"#9c179e\"],[0.4444444444444444,\"#bd3786\"],[0.5555555555555556,\"#d8576b\"],[0.6666666666666666,\"#ed7953\"],[0.7777777777777778,\"#fb9f3a\"],[0.8888888888888888,\"#fdca26\"],[1.0,\"#f0f921\"]]}],\"choropleth\":[{\"type\":\"choropleth\",\"colorbar\":{\"outlinewidth\":0,\"ticks\":\"\"}}],\"histogram2d\":[{\"type\":\"histogram2d\",\"colorbar\":{\"outlinewidth\":0,\"ticks\":\"\"},\"colorscale\":[[0.0,\"#0d0887\"],[0.1111111111111111,\"#46039f\"],[0.2222222222222222,\"#7201a8\"],[0.3333333333333333,\"#9c179e\"],[0.4444444444444444,\"#bd3786\"],[0.5555555555555556,\"#d8576b\"],[0.6666666666666666,\"#ed7953\"],[0.7777777777777778,\"#fb9f3a\"],[0.8888888888888888,\"#fdca26\"],[1.0,\"#f0f921\"]]}],\"heatmap\":[{\"type\":\"heatmap\",\"colorbar\":{\"outlinewidth\":0,\"ticks\":\"\"},\"colorscale\":[[0.0,\"#0d0887\"],[0.1111111111111111,\"#46039f\"],[0.2222222222222222,\"#7201a8\"],[0.3333333333333333,\"#9c179e\"],[0.4444444444444444,\"#bd3786\"],[0.5555555555555556,\"#d8576b\"],[0.6666666666666666,\"#ed7953\"],[0.7777777777777778,\"#fb9f3a\"],[0.8888888888888888,\"#fdca26\"],[1.0,\"#f0f921\"]]}],\"heatmapgl\":[{\"type\":\"heatmapgl\",\"colorbar\":{\"outlinewidth\":0,\"ticks\":\"\"},\"colorscale\":[[0.0,\"#0d0887\"],[0.1111111111111111,\"#46039f\"],[0.2222222222222222,\"#7201a8\"],[0.3333333333333333,\"#9c179e\"],[0.4444444444444444,\"#bd3786\"],[0.5555555555555556,\"#d8576b\"],[0.6666666666666666,\"#ed7953\"],[0.7777777777777778,\"#fb9f3a\"],[0.8888888888888888,\"#fdca26\"],[1.0,\"#f0f921\"]]}],\"contourcarpet\":[{\"type\":\"contourcarpet\",\"colorbar\":{\"outlinewidth\":0,\"ticks\":\"\"}}],\"contour\":[{\"type\":\"contour\",\"colorbar\":{\"outlinewidth\":0,\"ticks\":\"\"},\"colorscale\":[[0.0,\"#0d0887\"],[0.1111111111111111,\"#46039f\"],[0.2222222222222222,\"#7201a8\"],[0.3333333333333333,\"#9c179e\"],[0.4444444444444444,\"#bd3786\"],[0.5555555555555556,\"#d8576b\"],[0.6666666666666666,\"#ed7953\"],[0.7777777777777778,\"#fb9f3a\"],[0.8888888888888888,\"#fdca26\"],[1.0,\"#f0f921\"]]}],\"surface\":[{\"type\":\"surface\",\"colorbar\":{\"outlinewidth\":0,\"ticks\":\"\"},\"colorscale\":[[0.0,\"#0d0887\"],[0.1111111111111111,\"#46039f\"],[0.2222222222222222,\"#7201a8\"],[0.3333333333333333,\"#9c179e\"],[0.4444444444444444,\"#bd3786\"],[0.5555555555555556,\"#d8576b\"],[0.6666666666666666,\"#ed7953\"],[0.7777777777777778,\"#fb9f3a\"],[0.8888888888888888,\"#fdca26\"],[1.0,\"#f0f921\"]]}],\"mesh3d\":[{\"type\":\"mesh3d\",\"colorbar\":{\"outlinewidth\":0,\"ticks\":\"\"}}],\"scatter\":[{\"fillpattern\":{\"fillmode\":\"overlay\",\"size\":10,\"solidity\":0.2},\"type\":\"scatter\"}],\"parcoords\":[{\"type\":\"parcoords\",\"line\":{\"colorbar\":{\"outlinewidth\":0,\"ticks\":\"\"}}}],\"scatterpolargl\":[{\"type\":\"scatterpolargl\",\"marker\":{\"colorbar\":{\"outlinewidth\":0,\"ticks\":\"\"}}}],\"bar\":[{\"error_x\":{\"color\":\"#2a3f5f\"},\"error_y\":{\"color\":\"#2a3f5f\"},\"marker\":{\"line\":{\"color\":\"#E5ECF6\",\"width\":0.5},\"pattern\":{\"fillmode\":\"overlay\",\"size\":10,\"solidity\":0.2}},\"type\":\"bar\"}],\"scattergeo\":[{\"type\":\"scattergeo\",\"marker\":{\"colorbar\":{\"outlinewidth\":0,\"ticks\":\"\"}}}],\"scatterpolar\":[{\"type\":\"scatterpolar\",\"marker\":{\"colorbar\":{\"outlinewidth\":0,\"ticks\":\"\"}}}],\"histogram\":[{\"marker\":{\"pattern\":{\"fillmode\":\"overlay\",\"size\":10,\"solidity\":0.2}},\"type\":\"histogram\"}],\"scattergl\":[{\"type\":\"scattergl\",\"marker\":{\"colorbar\":{\"outlinewidth\":0,\"ticks\":\"\"}}}],\"scatter3d\":[{\"type\":\"scatter3d\",\"line\":{\"colorbar\":{\"outlinewidth\":0,\"ticks\":\"\"}},\"marker\":{\"colorbar\":{\"outlinewidth\":0,\"ticks\":\"\"}}}],\"scattermapbox\":[{\"type\":\"scattermapbox\",\"marker\":{\"colorbar\":{\"outlinewidth\":0,\"ticks\":\"\"}}}],\"scatterternary\":[{\"type\":\"scatterternary\",\"marker\":{\"colorbar\":{\"outlinewidth\":0,\"ticks\":\"\"}}}],\"scattercarpet\":[{\"type\":\"scattercarpet\",\"marker\":{\"colorbar\":{\"outlinewidth\":0,\"ticks\":\"\"}}}],\"carpet\":[{\"aaxis\":{\"endlinecolor\":\"#2a3f5f\",\"gridcolor\":\"white\",\"linecolor\":\"white\",\"minorgridcolor\":\"white\",\"startlinecolor\":\"#2a3f5f\"},\"baxis\":{\"endlinecolor\":\"#2a3f5f\",\"gridcolor\":\"white\",\"linecolor\":\"white\",\"minorgridcolor\":\"white\",\"startlinecolor\":\"#2a3f5f\"},\"type\":\"carpet\"}],\"table\":[{\"cells\":{\"fill\":{\"color\":\"#EBF0F8\"},\"line\":{\"color\":\"white\"}},\"header\":{\"fill\":{\"color\":\"#C8D4E3\"},\"line\":{\"color\":\"white\"}},\"type\":\"table\"}],\"barpolar\":[{\"marker\":{\"line\":{\"color\":\"#E5ECF6\",\"width\":0.5},\"pattern\":{\"fillmode\":\"overlay\",\"size\":10,\"solidity\":0.2}},\"type\":\"barpolar\"}],\"pie\":[{\"automargin\":true,\"type\":\"pie\"}]},\"layout\":{\"autotypenumbers\":\"strict\",\"colorway\":[\"#636efa\",\"#EF553B\",\"#00cc96\",\"#ab63fa\",\"#FFA15A\",\"#19d3f3\",\"#FF6692\",\"#B6E880\",\"#FF97FF\",\"#FECB52\"],\"font\":{\"color\":\"#2a3f5f\"},\"hovermode\":\"closest\",\"hoverlabel\":{\"align\":\"left\"},\"paper_bgcolor\":\"white\",\"plot_bgcolor\":\"#E5ECF6\",\"polar\":{\"bgcolor\":\"#E5ECF6\",\"angularaxis\":{\"gridcolor\":\"white\",\"linecolor\":\"white\",\"ticks\":\"\"},\"radialaxis\":{\"gridcolor\":\"white\",\"linecolor\":\"white\",\"ticks\":\"\"}},\"ternary\":{\"bgcolor\":\"#E5ECF6\",\"aaxis\":{\"gridcolor\":\"white\",\"linecolor\":\"white\",\"ticks\":\"\"},\"baxis\":{\"gridcolor\":\"white\",\"linecolor\":\"white\",\"ticks\":\"\"},\"caxis\":{\"gridcolor\":\"white\",\"linecolor\":\"white\",\"ticks\":\"\"}},\"coloraxis\":{\"colorbar\":{\"outlinewidth\":0,\"ticks\":\"\"}},\"colorscale\":{\"sequential\":[[0.0,\"#0d0887\"],[0.1111111111111111,\"#46039f\"],[0.2222222222222222,\"#7201a8\"],[0.3333333333333333,\"#9c179e\"],[0.4444444444444444,\"#bd3786\"],[0.5555555555555556,\"#d8576b\"],[0.6666666666666666,\"#ed7953\"],[0.7777777777777778,\"#fb9f3a\"],[0.8888888888888888,\"#fdca26\"],[1.0,\"#f0f921\"]],\"sequentialminus\":[[0.0,\"#0d0887\"],[0.1111111111111111,\"#46039f\"],[0.2222222222222222,\"#7201a8\"],[0.3333333333333333,\"#9c179e\"],[0.4444444444444444,\"#bd3786\"],[0.5555555555555556,\"#d8576b\"],[0.6666666666666666,\"#ed7953\"],[0.7777777777777778,\"#fb9f3a\"],[0.8888888888888888,\"#fdca26\"],[1.0,\"#f0f921\"]],\"diverging\":[[0,\"#8e0152\"],[0.1,\"#c51b7d\"],[0.2,\"#de77ae\"],[0.3,\"#f1b6da\"],[0.4,\"#fde0ef\"],[0.5,\"#f7f7f7\"],[0.6,\"#e6f5d0\"],[0.7,\"#b8e186\"],[0.8,\"#7fbc41\"],[0.9,\"#4d9221\"],[1,\"#276419\"]]},\"xaxis\":{\"gridcolor\":\"white\",\"linecolor\":\"white\",\"ticks\":\"\",\"title\":{\"standoff\":15},\"zerolinecolor\":\"white\",\"automargin\":true,\"zerolinewidth\":2},\"yaxis\":{\"gridcolor\":\"white\",\"linecolor\":\"white\",\"ticks\":\"\",\"title\":{\"standoff\":15},\"zerolinecolor\":\"white\",\"automargin\":true,\"zerolinewidth\":2},\"scene\":{\"xaxis\":{\"backgroundcolor\":\"#E5ECF6\",\"gridcolor\":\"white\",\"linecolor\":\"white\",\"showbackground\":true,\"ticks\":\"\",\"zerolinecolor\":\"white\",\"gridwidth\":2},\"yaxis\":{\"backgroundcolor\":\"#E5ECF6\",\"gridcolor\":\"white\",\"linecolor\":\"white\",\"showbackground\":true,\"ticks\":\"\",\"zerolinecolor\":\"white\",\"gridwidth\":2},\"zaxis\":{\"backgroundcolor\":\"#E5ECF6\",\"gridcolor\":\"white\",\"linecolor\":\"white\",\"showbackground\":true,\"ticks\":\"\",\"zerolinecolor\":\"white\",\"gridwidth\":2}},\"shapedefaults\":{\"line\":{\"color\":\"#2a3f5f\"}},\"annotationdefaults\":{\"arrowcolor\":\"#2a3f5f\",\"arrowhead\":0,\"arrowwidth\":1},\"geo\":{\"bgcolor\":\"white\",\"landcolor\":\"#E5ECF6\",\"subunitcolor\":\"white\",\"showland\":true,\"showlakes\":true,\"lakecolor\":\"white\"},\"title\":{\"x\":0.05},\"mapbox\":{\"style\":\"light\"}}},\"xaxis\":{\"anchor\":\"y\",\"domain\":[0.0,1.0],\"matches\":\"x5\",\"showticklabels\":false},\"yaxis\":{\"anchor\":\"x\",\"domain\":[0.88,1.0],\"title\":{\"text\":\"Sensor Value\"}},\"xaxis2\":{\"anchor\":\"y2\",\"domain\":[0.0,1.0],\"matches\":\"x5\",\"showticklabels\":false},\"yaxis2\":{\"anchor\":\"x2\",\"domain\":[0.66,0.78],\"title\":{\"text\":\"Sensor Value\"}},\"xaxis3\":{\"anchor\":\"y3\",\"domain\":[0.0,1.0],\"matches\":\"x5\",\"showticklabels\":false},\"yaxis3\":{\"anchor\":\"x3\",\"domain\":[0.44,0.56],\"title\":{\"text\":\"Sensor Value\"}},\"xaxis4\":{\"anchor\":\"y4\",\"domain\":[0.0,1.0],\"matches\":\"x5\",\"showticklabels\":false},\"yaxis4\":{\"anchor\":\"x4\",\"domain\":[0.22,0.33999999999999997],\"title\":{\"text\":\"Sensor Value\"}},\"xaxis5\":{\"anchor\":\"y5\",\"domain\":[0.0,1.0],\"title\":{\"text\":\"Time\"}},\"yaxis5\":{\"anchor\":\"x5\",\"domain\":[0.0,0.12],\"title\":{\"text\":\"Sensor Value\"}},\"annotations\":[{\"font\":{\"size\":16},\"showarrow\":false,\"text\":\"Temperature\",\"x\":0.5,\"xanchor\":\"center\",\"xref\":\"paper\",\"y\":1.0,\"yanchor\":\"bottom\",\"yref\":\"paper\"},{\"font\":{\"size\":16},\"showarrow\":false,\"text\":\"Relative Humidity (rH)\",\"x\":0.5,\"xanchor\":\"center\",\"xref\":\"paper\",\"y\":0.78,\"yanchor\":\"bottom\",\"yref\":\"paper\"},{\"font\":{\"size\":16},\"showarrow\":false,\"text\":\"PMS1\",\"x\":0.5,\"xanchor\":\"center\",\"xref\":\"paper\",\"y\":0.56,\"yanchor\":\"bottom\",\"yref\":\"paper\"},{\"font\":{\"size\":16},\"showarrow\":false,\"text\":\"PMS2.5\",\"x\":0.5,\"xanchor\":\"center\",\"xref\":\"paper\",\"y\":0.33999999999999997,\"yanchor\":\"bottom\",\"yref\":\"paper\"},{\"font\":{\"size\":16},\"showarrow\":false,\"text\":\"PMS10\",\"x\":0.5,\"xanchor\":\"center\",\"xref\":\"paper\",\"y\":0.12,\"yanchor\":\"bottom\",\"yref\":\"paper\"}],\"title\":{\"text\":\"Live ThingSpeak Data (Sensor Readings)\"},\"height\":1400,\"showlegend\":false},                        {\"responsive\": true}                    ).then(function(){\n",
              "                            \n",
              "var gd = document.getElementById('8a14d74a-88ff-47e8-82e9-f85f9370026e');\n",
              "var x = new MutationObserver(function (mutations, observer) {{\n",
              "        var display = window.getComputedStyle(gd).display;\n",
              "        if (!display || display === 'none') {{\n",
              "            console.log([gd, 'removed!']);\n",
              "            Plotly.purge(gd);\n",
              "            observer.disconnect();\n",
              "        }}\n",
              "}});\n",
              "\n",
              "// Listen for the removal of the full notebook cells\n",
              "var notebookContainer = gd.closest('#notebook-container');\n",
              "if (notebookContainer) {{\n",
              "    x.observe(notebookContainer, {childList: true});\n",
              "}}\n",
              "\n",
              "// Listen for the clearing of the current output cell\n",
              "var outputEl = gd.closest('.output');\n",
              "if (outputEl) {{\n",
              "    x.observe(outputEl, {childList: true});\n",
              "}}\n",
              "\n",
              "                        })                };                            </script>        </div>\n",
              "</body>\n",
              "</html>"
            ]
          },
          "metadata": {}
        }
      ],
      "source": [
        "import pandas as pd\n",
        "import requests\n",
        "import plotly.graph_objs as go\n",
        "from plotly.subplots import make_subplots\n",
        "from time import sleep\n",
        "from IPython.display import clear_output\n",
        "\n",
        "def fix_zero_spikes(series):\n",
        "    fixed = series.copy()\n",
        "    for i in range(1, len(series) - 1):\n",
        "        if series[i] == 0:\n",
        "            if series[i-1] != 0:\n",
        "                fixed[i] = series[i-1]\n",
        "            elif series[i+1] != 0:\n",
        "                fixed[i] = series[i+1]\n",
        "    return fixed\n",
        "\n",
        "# ThingSpeak channel parameters\n",
        "CHANNEL_ID = '2505616'\n",
        "READ_API_KEY = '0NK4IZ85O9HT42NZ'\n",
        "RESULTS = 40\n",
        "\n",
        "# Field names for labeling\n",
        "FIELD_NAMES = {\n",
        "    'field1': 'Temperature',\n",
        "    'field2': 'Relative Humidity (rH)',\n",
        "    'field3': 'PMS1',\n",
        "    'field4': 'PMS2.5',\n",
        "    'field5': 'PMS10'\n",
        "}\n",
        "\n",
        "def fetch_all_fields():\n",
        "    url = f\"https://api.thingspeak.com/channels/{CHANNEL_ID}/feeds.json?results={RESULTS}&api_key={READ_API_KEY}\"\n",
        "    response = requests.get(url)\n",
        "    data = response.json()\n",
        "    feeds = data['feeds']\n",
        "    df = pd.DataFrame(feeds)\n",
        "    df['created_at'] = pd.to_datetime(df['created_at'])\n",
        "\n",
        "    for i in range(1, 6):\n",
        "        df[f'field{i}'] = pd.to_numeric(df[f'field{i}'], errors='coerce')\n",
        "        df[f'field{i}'] = fix_zero_spikes(df[f'field{i}'])\n",
        "\n",
        "    return df[['created_at'] + list(FIELD_NAMES.keys())].dropna()\n",
        "\n",
        "def live_plot_combined(cycles=10, interval=15):\n",
        "    for _ in range(cycles):\n",
        "        df = fetch_all_fields()\n",
        "        clear_output(wait=True)\n",
        "\n",
        "        fig = make_subplots(\n",
        "            rows=5, cols=1, shared_xaxes=True,\n",
        "            subplot_titles=[FIELD_NAMES[f'field{i}'] for i in range(1, 6)]\n",
        "        )\n",
        "\n",
        "        for i in range(1, 6):\n",
        "            field = f'field{i}'\n",
        "            fig.add_trace(go.Scatter(\n",
        "                x=df['created_at'],\n",
        "                y=df[field],\n",
        "                mode='lines',\n",
        "                name=FIELD_NAMES[field]\n",
        "            ), row=i, col=1)\n",
        "\n",
        "        fig.update_layout(\n",
        "            height=1400,\n",
        "            title_text=\"Live ThingSpeak Data (Sensor Readings)\",\n",
        "            showlegend=False\n",
        "        )\n",
        "        fig.update_xaxes(title_text=\"Time\", row=5, col=1)\n",
        "        fig.update_yaxes(title_text=\"Sensor Value\")\n",
        "\n",
        "        fig.show()\n",
        "        sleep(interval)\n",
        "\n",
        "# Run the combined live plot\n",
        "live_plot_combined(cycles=10, interval=15)\n"
      ]
    }
  ]
}